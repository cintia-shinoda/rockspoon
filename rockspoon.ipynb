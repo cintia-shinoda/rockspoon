{
 "cells": [
  {
   "cell_type": "markdown",
   "metadata": {},
   "source": [
    "# RockSpoon"
   ]
  },
  {
   "cell_type": "markdown",
   "metadata": {},
   "source": [
    "| Column |\tDescription |\n",
    "|--------|-------------|\n",
    "| name\t| The name of the company. |\n",
    "|active_founder\t|Number of active founders in the startup.\n",
    "|batch\t|The Y Combinator batch the company participated in.\n",
    "|founded\t|The year the company was founded.\n",
    "|industry\t|The industry or sector of the company.\n",
    "|jobs\t|Number of available jobs in a company.\n",
    "|location\t|The primary location of the company.\n",
    "|logo\t|URL or path to the company's logo image.\n",
    "|long_description|\tA detailed description of the company.\n",
    "|region\t| The region where the company operates or is headquartered.\n",
    "|short_description|\tA brief description of the company.\n",
    "|status|\tThe current status of the company (e.g., active, acquired, closed).\n",
    "|tags\t|Keywords or tags related to the company's focus or technology.\n",
    "|team_size\t|The current team size of the company.\n",
    "|website|\tThe company's official website."
   ]
  },
  {
   "cell_type": "markdown",
   "metadata": {},
   "source": [
    "Questions:\n",
    "\n",
    "What is the most invested industry by year of foundation? (Nice to have a graph)\n",
    "\n",
    "What is the top 10 cities that contains the highest amount of founded companies?\n",
    "\n",
    "\"What are the 10 (or close to 10) most successful (status equal Public or Acquired) industries and quantity? \n",
    "\n",
    "What is the average team size of those companies?\"\n",
    "\n",
    "What are the most unsuccessful (status equal Archived) industries?\n",
    "\n",
    "If you would pick an industry to invest, what industry would be and why? \n",
    "\n",
    "If you would pick a Company to invest, what Company would be and why? \n",
    "\n",
    "\n",
    "### Requirement\n",
    "Slide presentation with no more than 5 slides\n",
    "\n",
    "Excel with all calculations done and formulas used"
   ]
  },
  {
   "cell_type": "code",
   "execution_count": 4,
   "metadata": {},
   "outputs": [],
   "source": [
    "import pandas as pd\n",
    "import numpy as np\n",
    "import matplotlib.pyplot as plt\n",
    "import plotly.express as px\n",
    "import streamlit as st"
   ]
  },
  {
   "cell_type": "code",
   "execution_count": null,
   "metadata": {},
   "outputs": [],
   "source": [
    "df = pd.read_excel(\"data.xlsx\", sheet_name=\"Data\")\n",
    "print(df.info())\n",
    "print(df.head(10))"
   ]
  },
  {
   "cell_type": "code",
   "execution_count": null,
   "metadata": {},
   "outputs": [],
   "source": []
  }
 ],
 "metadata": {
  "kernelspec": {
   "display_name": "Python 3",
   "language": "python",
   "name": "python3"
  },
  "language_info": {
   "codemirror_mode": {
    "name": "ipython",
    "version": 3
   },
   "file_extension": ".py",
   "mimetype": "text/x-python",
   "name": "python",
   "nbconvert_exporter": "python",
   "pygments_lexer": "ipython3",
   "version": "3.12.8"
  }
 },
 "nbformat": 4,
 "nbformat_minor": 2
}
